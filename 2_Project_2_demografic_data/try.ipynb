{
 "cells": [
  {
   "cell_type": "code",
   "execution_count": 199,
   "metadata": {},
   "outputs": [],
   "source": [
    "import pandas as pd"
   ]
  },
  {
   "cell_type": "code",
   "execution_count": 241,
   "metadata": {},
   "outputs": [],
   "source": [
    "df = pd.read_csv(\"adult.data.csv\", na_values=['?'])\n",
    "# df.to_excel(\"out_df.xlsx\", 'w')"
   ]
  },
  {
   "cell_type": "code",
   "execution_count": 201,
   "metadata": {},
   "outputs": [
    {
     "data": {
      "text/plain": [
       "White                 27816\n",
       "Black                  3124\n",
       "Asian-Pac-Islander     1039\n",
       "Amer-Indian-Eskimo      311\n",
       "Other                   271\n",
       "Name: race, dtype: int64"
      ]
     },
     "execution_count": 201,
     "metadata": {},
     "output_type": "execute_result"
    }
   ],
   "source": [
    "race_count = df['race'].value_counts()\n",
    "race_count"
   ]
  },
  {
   "cell_type": "code",
   "execution_count": 202,
   "metadata": {},
   "outputs": [
    {
     "data": {
      "text/plain": [
       "39.4"
      ]
     },
     "execution_count": 202,
     "metadata": {},
     "output_type": "execute_result"
    }
   ],
   "source": [
    "mask = df['sex'] == 'Male'\n",
    "average_age_men = round(df['age'][mask].mean(), 1)\n",
    "average_age_men"
   ]
  },
  {
   "cell_type": "code",
   "execution_count": 203,
   "metadata": {},
   "outputs": [
    {
     "data": {
      "text/plain": [
       "16.4"
      ]
     },
     "execution_count": 203,
     "metadata": {},
     "output_type": "execute_result"
    }
   ],
   "source": [
    "mask = df['education'] == 'Bachelors'\n",
    "total_bach = df['education'][mask].count()\n",
    "total = df['education'].count()\n",
    "percentage_bachelors = round(total_bach * 100 / total, 1)\n",
    "percentage_bachelors"
   ]
  },
  {
   "cell_type": "code",
   "execution_count": 204,
   "metadata": {},
   "outputs": [
    {
     "name": "stdout",
     "output_type": "stream",
     "text": [
      "7491\n",
      "25070\n",
      "46.5\n",
      "17.4\n"
     ]
    }
   ],
   "source": [
    "mask1= df['education'] == 'Bachelors'\n",
    "mask2= df['education'] == 'Masters'\n",
    "mask3= df['education'] == 'Doctorate'\n",
    "rich = df['salary'] == '>50K'\n",
    "\n",
    "higher_education = round(\n",
    "    df['education']\n",
    "    [mask1 | mask2 | mask3].count(), 1)\n",
    "\n",
    "higher_education_rich = round(\n",
    "    df['education']\n",
    "    [(mask1 | mask2 | mask3) & rich].count() * 100 / higher_education, 1)\n",
    "\n",
    "lower_education = round(\n",
    "    df['education']\n",
    "    [~(mask1 | mask2 | mask3)].count(), 1)\n",
    "\n",
    "lower_education_rich = round(\n",
    "    df['education']\n",
    "    [~(mask1 | mask2 | mask3) & rich].count() * 100 / lower_education, 1)\n",
    "\n",
    "print(higher_education)\n",
    "print(lower_education)\n",
    "print(higher_education_rich)\n",
    "print(lower_education_rich)"
   ]
  },
  {
   "cell_type": "code",
   "execution_count": 205,
   "metadata": {},
   "outputs": [
    {
     "data": {
      "text/plain": [
       "1"
      ]
     },
     "execution_count": 205,
     "metadata": {},
     "output_type": "execute_result"
    }
   ],
   "source": [
    "min_work_hours = round(df['hours-per-week'].min(), 1)\n",
    "min_work_hours"
   ]
  },
  {
   "cell_type": "code",
   "execution_count": 227,
   "metadata": {},
   "outputs": [
    {
     "data": {
      "text/plain": [
       "10.0"
      ]
     },
     "execution_count": 227,
     "metadata": {},
     "output_type": "execute_result"
    }
   ],
   "source": [
    "mask = df['hours-per-week'] == df['hours-per-week'].min()\n",
    "num_min_workers = df['hours-per-week'][mask].count()\n",
    "\n",
    "amt_min_hours_rich = df['hours-per-week'][mask & rich].count()\n",
    "rich_percentage = round(amt_min_hours_rich * 100 / num_min_workers, 1)\n",
    "\n",
    "rich_percentage"
   ]
  },
  {
   "cell_type": "code",
   "execution_count": 249,
   "metadata": {},
   "outputs": [
    {
     "name": "stdout",
     "output_type": "stream",
     "text": [
      "41.9\n",
      "Iran\n"
     ]
    }
   ],
   "source": [
    "rich_amt = df[rich].groupby(['native-country']).size()\n",
    "\n",
    "total = df.groupby(['native-country'])['salary'].size()\n",
    "mask_percentage = round(rich_amt * 100/ total, 1)\n",
    "highest_earning_country = mask_percentage.sort_values(ascending=False)[0]\n",
    "highest_earning_country_percentage = mask_percentage.sort_values(ascending=False).index[0]\n",
    "\n",
    "print(highest_earning_country)\n",
    "print(highest_earning_country_percentage)"
   ]
  },
  {
   "cell_type": "code",
   "execution_count": 251,
   "metadata": {},
   "outputs": [
    {
     "data": {
      "text/plain": [
       "'Prof-specialty'"
      ]
     },
     "execution_count": 251,
     "metadata": {},
     "output_type": "execute_result"
    }
   ],
   "source": [
    "mask_india = df['native-country'] == 'India'\n",
    "main_mask = df[mask_india & rich]['occupation'].value_counts()\n",
    "top_IN_occupation = main_mask.index[0]\n",
    "top_IN_occupation"
   ]
  }
 ],
 "metadata": {
  "kernelspec": {
   "display_name": "venv",
   "language": "python",
   "name": "python3"
  },
  "language_info": {
   "codemirror_mode": {
    "name": "ipython",
    "version": 3
   },
   "file_extension": ".py",
   "mimetype": "text/x-python",
   "name": "python",
   "nbconvert_exporter": "python",
   "pygments_lexer": "ipython3",
   "version": "3.7.0"
  },
  "orig_nbformat": 4,
  "vscode": {
   "interpreter": {
    "hash": "6a278c6385d55f8272cafba3bd68d22ecbac6d7ebba2f43d3b70252a90fc9fc1"
   }
  }
 },
 "nbformat": 4,
 "nbformat_minor": 2
}
